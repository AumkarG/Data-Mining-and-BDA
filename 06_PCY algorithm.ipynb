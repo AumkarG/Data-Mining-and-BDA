{
 "cells": [
  {
   "cell_type": "markdown",
   "metadata": {},
   "source": [
    "Aumkar M Gadekar <br>\n",
    "2017130023 <br>\n",
    "Rno.21 <br>"
   ]
  },
  {
   "cell_type": "markdown",
   "metadata": {},
   "source": [
    "# Experiment  4"
   ]
  },
  {
   "cell_type": "markdown",
   "metadata": {},
   "source": [
    "### Aim: To implement PCY algorithm using python"
   ]
  },
  {
   "cell_type": "markdown",
   "metadata": {},
   "source": [
    "### Theory\n",
    "\n",
    "PCY is an extension of the Apriori Algorithm"
   ]
  },
  {
   "cell_type": "code",
   "execution_count": 25,
   "metadata": {},
   "outputs": [],
   "source": [
    "import pandas as pd\n",
    "import numpy as np"
   ]
  },
  {
   "cell_type": "code",
   "execution_count": 26,
   "metadata": {},
   "outputs": [],
   "source": [
    "import csv\n",
    "\n",
    "with open('store_data.csv', newline='') as f:\n",
    "    reader = csv.reader(f)\n",
    "    data = list(reader)\n",
    "data=[[str(x) for x in i] for i in data]\n",
    "prods=[]\n",
    "for x in data:\n",
    "    prods.extend(x)\n",
    "    prods=set(prods)\n",
    "    prods=list(prods)"
   ]
  },
  {
   "cell_type": "code",
   "execution_count": 27,
   "metadata": {},
   "outputs": [
    {
     "data": {
      "text/plain": [
       "120"
      ]
     },
     "execution_count": 27,
     "metadata": {},
     "output_type": "execute_result"
    }
   ],
   "source": [
    "len(prods)"
   ]
  },
  {
   "cell_type": "markdown",
   "metadata": {},
   "source": [
    "### PCY"
   ]
  },
  {
   "cell_type": "code",
   "execution_count": 28,
   "metadata": {},
   "outputs": [
    {
     "name": "stdout",
     "output_type": "stream",
     "text": [
      "['pickles', 'pasta', 'mushroom cream sauce', 'milk', 'hot dogs', 'chocolate', 'soup', 'chutney', 'candy bars', 'salmon', 'champagne', 'clothes accessories', 'chocolate bread', 'herb & pepper', 'green grapes', 'vegetables mix', 'carrots', 'honey', 'white wine', 'soda', 'cream', 'escalope', 'fresh bread', 'mineral water', 'yogurt cake', 'eggplant', 'pet food', 'whole weat flour', 'brownies', 'cottage cheese', 'fresh tuna', 'black tea', 'tea', 'ground beef', 'low fat yogurt', 'cake', 'spinach', 'almonds', 'bacon', 'shrimp', 'mint', 'sparkling water', 'energy drink', 'magazines', 'grated cheese', 'chicken', 'napkins', 'cookies', 'cider', 'corn', 'babies food', 'toothpaste', 'bug spray', 'burgers', 'chili', 'cereals', 'turkey', 'bramble', 'frozen smoothie', 'frozen vegetables', 'butter', 'strawberries', 'red wine', 'pancakes', 'parmesan cheese', 'light mayo', 'avocado', 'oatmeal', 'extra dark chocolate', 'mayonnaise', 'barbecue sauce', 'oil', 'protein bar', 'cauliflower', 'ketchup', 'nonfat milk', 'asparagus', 'dessert wine', 'green beans', 'strong cheese', ' asparagus', 'light cream', 'green tea', 'eggs', 'meatballs', 'tomatoes', 'salad', 'mashed potato', 'muffins', 'sandwich', 'tomato juice', 'water spray', 'cooking oil', 'energy bar', 'mint green tea', 'tomato sauce', 'zucchini', 'burger sauce', 'antioxydant juice', 'blueberries', 'gluten free bar', 'flax seed', 'body spray', 'salt', 'melons', 'ham', 'spaghetti', 'fromage blanc', 'whole wheat pasta', 'whole wheat rice', 'olive oil', 'shallot', 'yams', 'pepper', 'rice', 'hand protein bar', 'shampoo', 'french fries', 'gums', 'french wine']\n"
     ]
    }
   ],
   "source": [
    "print(prods)"
   ]
  },
  {
   "cell_type": "markdown",
   "metadata": {},
   "source": [
    "### Pass one"
   ]
  },
  {
   "cell_type": "markdown",
   "metadata": {},
   "source": [
    "Support of all items"
   ]
  },
  {
   "cell_type": "code",
   "execution_count": 29,
   "metadata": {},
   "outputs": [],
   "source": [
    "hash_table=dict()"
   ]
  },
  {
   "cell_type": "code",
   "execution_count": 30,
   "metadata": {},
   "outputs": [
    {
     "name": "stdout",
     "output_type": "stream",
     "text": [
      "{'pickles': 45, 'pasta': 118, 'mushroom cream sauce': 143, 'milk': 972, 'hot dogs': 243, 'chocolate': 1230, 'soup': 379, 'chutney': 31, 'candy bars': 73, 'salmon': 319, 'champagne': 351, 'clothes accessories': 63, 'chocolate bread': 32, 'herb & pepper': 371, 'green grapes': 68, 'vegetables mix': 193, 'carrots': 115, 'honey': 356, 'white wine': 124, 'soda': 47, 'cream': 7, 'escalope': 595, 'fresh bread': 323, 'mineral water': 1788, 'yogurt cake': 205, 'eggplant': 99, 'pet food': 49, 'whole weat flour': 70, 'brownies': 253, 'cottage cheese': 239, 'fresh tuna': 167, 'black tea': 107, 'tea': 29, 'ground beef': 737, 'low fat yogurt': 574, 'cake': 608, 'spinach': 53, 'almonds': 153, 'bacon': 65, 'shrimp': 536, 'mint': 131, 'sparkling water': 47, 'energy drink': 200, 'magazines': 82, 'grated cheese': 393, 'chicken': 450, 'napkins': 5, 'cookies': 603, 'cider': 79, 'corn': 36, 'babies food': 34, 'toothpaste': 61, 'bug spray': 65, 'burgers': 654, 'chili': 46, 'cereals': 193, 'turkey': 469, 'bramble': 14, 'frozen smoothie': 475, 'frozen vegetables': 715, 'butter': 226, 'strawberries': 160, 'red wine': 211, 'pancakes': 713, 'parmesan cheese': 149, 'light mayo': 204, 'avocado': 250, 'oatmeal': 33, 'extra dark chocolate': 90, 'mayonnaise': 46, 'barbecue sauce': 81, 'oil': 173, 'protein bar': 139, 'cauliflower': 36, 'ketchup': 33, 'nonfat milk': 78, 'asparagus': 35, 'dessert wine': 33, 'green beans': 65, 'strong cheese': 58, ' asparagus': 1, 'light cream': 117, 'green tea': 991, 'eggs': 1348, 'meatballs': 157, 'tomatoes': 513, 'salad': 37, 'mashed potato': 31, 'muffins': 181, 'sandwich': 34, 'tomato juice': 228, 'water spray': 3, 'cooking oil': 383, 'energy bar': 203, 'mint green tea': 42, 'tomato sauce': 106, 'zucchini': 71, 'burger sauce': 44, 'antioxydant juice': 67, 'blueberries': 69, 'gluten free bar': 52, 'flax seed': 68, 'body spray': 86, 'salt': 69, 'melons': 90, 'ham': 203, 'spaghetti': 1306, 'fromage blanc': 102, 'whole wheat pasta': 221, 'whole wheat rice': 439, 'olive oil': 494, 'shallot': 58, 'yams': 86, 'pepper': 199, 'rice': 141, 'hand protein bar': 39, 'shampoo': 37, 'french fries': 1282, 'gums': 101, 'french wine': 169}\n"
     ]
    }
   ],
   "source": [
    "supp={i:0 for i in prods}\n",
    "\n",
    "for i in data:\n",
    "    for j in i:\n",
    "        supp[j]+=1\n",
    "print(supp)"
   ]
  },
  {
   "cell_type": "markdown",
   "metadata": {},
   "source": [
    "#### Hash function"
   ]
  },
  {
   "cell_type": "code",
   "execution_count": 31,
   "metadata": {},
   "outputs": [],
   "source": [
    "def hash_f(x,y):\n",
    "    return x[0]+y[0]"
   ]
  },
  {
   "cell_type": "code",
   "execution_count": 32,
   "metadata": {},
   "outputs": [],
   "source": [
    "for d in data:\n",
    "    l=len(d)\n",
    "    for i in range(l-1):\n",
    "        for j in range(i+1,l):\n",
    "            s=d[i][0]+d[j][0]\n",
    "            if(s not in hash_table):\n",
    "                hash_table[s]=1\n",
    "            else:\n",
    "                hash_table[s]+=1"
   ]
  },
  {
   "cell_type": "code",
   "execution_count": 33,
   "metadata": {},
   "outputs": [
    {
     "name": "stdout",
     "output_type": "stream",
     "text": [
      "389\n"
     ]
    }
   ],
   "source": [
    "print(len(hash_table))"
   ]
  },
  {
   "cell_type": "markdown",
   "metadata": {},
   "source": [
    "### Pass-2"
   ]
  },
  {
   "cell_type": "code",
   "execution_count": 34,
   "metadata": {},
   "outputs": [],
   "source": [
    "min_support=4*7501//100"
   ]
  },
  {
   "cell_type": "code",
   "execution_count": 35,
   "metadata": {},
   "outputs": [
    {
     "name": "stdout",
     "output_type": "stream",
     "text": [
      "['milk', 'chocolate', 'soup', 'salmon', 'champagne', 'herb & pepper', 'honey', 'escalope', 'fresh bread', 'mineral water', 'ground beef', 'low fat yogurt', 'cake', 'shrimp', 'grated cheese', 'chicken', 'cookies', 'burgers', 'turkey', 'frozen smoothie', 'frozen vegetables', 'pancakes', 'green tea', 'eggs', 'tomatoes', 'cooking oil', 'spaghetti', 'whole wheat rice', 'olive oil', 'french fries']\n"
     ]
    }
   ],
   "source": [
    "cand_list=[]\n",
    "for i in supp:\n",
    "    if(supp[i]>min_support):\n",
    "        cand_list.append(i)\n",
    "print(cand_list)"
   ]
  },
  {
   "cell_type": "code",
   "execution_count": 36,
   "metadata": {},
   "outputs": [
    {
     "name": "stdout",
     "output_type": "stream",
     "text": [
      "30\n"
     ]
    }
   ],
   "source": [
    "print(len(cand_list))"
   ]
  },
  {
   "cell_type": "code",
   "execution_count": 37,
   "metadata": {},
   "outputs": [],
   "source": [
    "cand_pair=[]\n",
    "l=len(cand_list)\n",
    "for i in range(l-1):\n",
    "    for j in range(i+1,l):\n",
    "        s=hash_f(cand_list[i],cand_list[j])\n",
    "        if(hash_table[s]>min_support):\n",
    "            cand_pair.append((cand_list[i],cand_list[j]))"
   ]
  },
  {
   "cell_type": "code",
   "execution_count": 38,
   "metadata": {},
   "outputs": [
    {
     "name": "stdout",
     "output_type": "stream",
     "text": [
      "[241, 114, 73, 40, 69, 58, 58, 69, 360, 165, 99, 100, 132, 59, 111, 33, 134, 107, 177, 124, 132, 231, 86, 266, 89, 128, 178, 76, 80, 87, 68, 60, 132, 71, 395, 173, 111, 102, 135, 82, 110, 78, 128, 112, 172, 149, 176, 249, 102, 294, 258, 24, 14, 27, 24, 26, 20, 173, 73, 43, 46, 42, 22, 45, 17, 47, 37, 19, 60, 51, 53, 68, 52, 40, 107, 27, 67, 57, 19, 29, 26, 25, 21, 128, 67, 29, 28, 35, 39, 30, 10, 34, 31, 38, 47, 32, 44, 62, 37, 29, 101, 21, 43, 44, 15, 14, 30, 20, 56, 30, 24, 16, 19, 11, 19, 28, 29, 35, 36, 38, 62, 50, 13, 50, 70, 23, 128, 120, 34, 53, 49, 37, 18, 28, 45, 48, 40, 122, 52, 20, 113, 51, 33, 33, 31, 31, 15, 44, 57, 70, 25, 89, 67, 27, 62, 35, 31, 36, 27, 19, 41, 57, 67, 40, 123, 100, 46, 32, 33, 39, 23, 39, 20, 30, 24, 32, 51, 40, 48, 65, 35, 22, 68, 62, 307, 180, 206, 177, 131, 171, 56, 183, 152, 268, 253, 233, 382, 151, 448, 151, 207, 253, 61, 86, 85, 71, 33, 57, 127, 109, 111, 150, 63, 294, 104, 57, 36, 49, 30, 86, 48, 77, 89, 106, 143, 37, 136, 134, 33, 47, 31, 66, 48, 55, 125, 79, 86, 106, 84, 45, 159, 44, 61, 75, 32, 21, 24, 51, 52, 59, 68, 43, 124, 78, 19, 47, 50, 67, 68, 89, 108, 51, 129, 83, 42, 23, 19, 39, 90, 79, 16, 60, 100, 54, 79, 79, 131, 216, 43, 161, 165, 31, 66, 89, 146, 43, 124, 80, 75, 68, 84, 83, 49, 36, 117, 109, 101, 108, 163, 121, 51, 209, 143, 123, 163, 59, 189, 151, 191, 53, 199, 214, 88, 273, 50, 157, 90, 119, 59, 106, 172, 207]\n"
     ]
    }
   ],
   "source": [
    "l=len(cand_pair)\n",
    "cc=[0]*l\n",
    "for i in range(l):\n",
    "    for j in data:\n",
    "        if cand_pair[i][0] in j and cand_pair[i][1] in j:\n",
    "            cc[i]+=1\n",
    "print(cc)"
   ]
  },
  {
   "cell_type": "code",
   "execution_count": 39,
   "metadata": {},
   "outputs": [
    {
     "name": "stdout",
     "output_type": "stream",
     "text": [
      "[('milk', 'mineral water'), ('chocolate', 'mineral water'), ('mineral water', 'ground beef'), ('mineral water', 'eggs'), ('mineral water', 'spaghetti')]\n"
     ]
    }
   ],
   "source": [
    "cand_list2=[]\n",
    "for i in range(len(cc)):\n",
    "    if(cc[i]>min_support):\n",
    "        cand_list2.append(cand_pair[i])\n",
    "print(cand_list2)"
   ]
  },
  {
   "cell_type": "markdown",
   "metadata": {},
   "source": [
    "#### Therefore, the above pairs were found to be frequent item sets after the second pass of PCY algorith.\n",
    "\n",
    "We now see multiple stages of the algorithm."
   ]
  },
  {
   "cell_type": "code",
   "execution_count": 40,
   "metadata": {},
   "outputs": [
    {
     "ename": "IndexError",
     "evalue": "list index out of range",
     "output_type": "error",
     "traceback": [
      "\u001b[1;31m---------------------------------------------------------------------------\u001b[0m",
      "\u001b[1;31mIndexError\u001b[0m                                Traceback (most recent call last)",
      "\u001b[1;32m<ipython-input-40-2b6d26848998>\u001b[0m in \u001b[0;36m<module>\u001b[1;34m\u001b[0m\n\u001b[0;32m      3\u001b[0m     \u001b[1;32mfor\u001b[0m \u001b[0mj\u001b[0m \u001b[1;32min\u001b[0m \u001b[0mrange\u001b[0m\u001b[1;33m(\u001b[0m\u001b[0mi\u001b[0m\u001b[1;33m+\u001b[0m\u001b[1;36m1\u001b[0m\u001b[1;33m,\u001b[0m\u001b[0ml\u001b[0m\u001b[1;33m)\u001b[0m\u001b[1;33m:\u001b[0m\u001b[1;33m\u001b[0m\u001b[1;33m\u001b[0m\u001b[0m\n\u001b[0;32m      4\u001b[0m         \u001b[0mlst\u001b[0m\u001b[1;33m=\u001b[0m\u001b[0mlist\u001b[0m\u001b[1;33m(\u001b[0m\u001b[0mcand_list2\u001b[0m\u001b[1;33m[\u001b[0m\u001b[0mi\u001b[0m\u001b[1;33m]\u001b[0m\u001b[1;33m)\u001b[0m\u001b[1;33m\u001b[0m\u001b[1;33m\u001b[0m\u001b[0m\n\u001b[1;32m----> 5\u001b[1;33m         \u001b[0mlst\u001b[0m\u001b[1;33m.\u001b[0m\u001b[0mextend\u001b[0m\u001b[1;33m(\u001b[0m\u001b[0mlist\u001b[0m\u001b[1;33m(\u001b[0m\u001b[0mcand_list2\u001b[0m\u001b[1;33m[\u001b[0m\u001b[0mj\u001b[0m\u001b[1;33m]\u001b[0m\u001b[1;33m)\u001b[0m\u001b[1;33m)\u001b[0m\u001b[1;33m\u001b[0m\u001b[1;33m\u001b[0m\u001b[0m\n\u001b[0m\u001b[0;32m      6\u001b[0m         \u001b[1;32mif\u001b[0m \u001b[0mlen\u001b[0m\u001b[1;33m(\u001b[0m\u001b[0mset\u001b[0m\u001b[1;33m(\u001b[0m\u001b[0mlst\u001b[0m\u001b[1;33m)\u001b[0m\u001b[1;33m)\u001b[0m\u001b[1;33m==\u001b[0m\u001b[1;36m3\u001b[0m\u001b[1;33m:\u001b[0m\u001b[1;33m\u001b[0m\u001b[1;33m\u001b[0m\u001b[0m\n\u001b[0;32m      7\u001b[0m             \u001b[0mx\u001b[0m\u001b[1;33m=\u001b[0m\u001b[0mset\u001b[0m\u001b[1;33m(\u001b[0m\u001b[0mlst\u001b[0m\u001b[1;33m)\u001b[0m\u001b[1;33m\u001b[0m\u001b[1;33m\u001b[0m\u001b[0m\n",
      "\u001b[1;31mIndexError\u001b[0m: list index out of range"
     ]
    }
   ],
   "source": [
    "cl2=[]\n",
    "for i in range(l):\n",
    "    for j in range(i+1,l):\n",
    "        lst=list(cand_list2[i])\n",
    "        lst.extend(list(cand_list2[j]))\n",
    "        if len(set(lst))==3:\n",
    "            x=set(lst)\n",
    "            cl2.append(x)\n",
    "print(cl2)"
   ]
  },
  {
   "cell_type": "code",
   "execution_count": 41,
   "metadata": {},
   "outputs": [
    {
     "name": "stdout",
     "output_type": "stream",
     "text": [
      "[105, 83, 98, 118]\n"
     ]
    }
   ],
   "source": [
    "l=len(cl2)\n",
    "cc1=[0]*l\n",
    "for i in range(l):\n",
    "    x=cl2[i]\n",
    "    for d in data:\n",
    "        f=0\n",
    "        for j in x:\n",
    "            if j not in d:\n",
    "                f=1\n",
    "                break\n",
    "        if(f==0):\n",
    "            cc1[i]+=1\n",
    "print(cc1)"
   ]
  },
  {
   "cell_type": "markdown",
   "metadata": {},
   "source": [
    "#### None of the groupings satisfy the support for this pass, hence no frequent item sets of 3 items found."
   ]
  },
  {
   "cell_type": "code",
   "execution_count": null,
   "metadata": {},
   "outputs": [],
   "source": []
  },
  {
   "cell_type": "code",
   "execution_count": null,
   "metadata": {},
   "outputs": [],
   "source": []
  }
 ],
 "metadata": {
  "kernelspec": {
   "display_name": "Python 3",
   "language": "python",
   "name": "python3"
  },
  "language_info": {
   "codemirror_mode": {
    "name": "ipython",
    "version": 3
   },
   "file_extension": ".py",
   "mimetype": "text/x-python",
   "name": "python",
   "nbconvert_exporter": "python",
   "pygments_lexer": "ipython3",
   "version": "3.8.3"
  }
 },
 "nbformat": 4,
 "nbformat_minor": 2
}
