{
 "cells": [
  {
   "cell_type": "code",
   "execution_count": 1,
   "metadata": {
    "id": "q-EujkiEg5Rk"
   },
   "outputs": [],
   "source": [
    "import pandas as pd\n",
    "import numpy as np"
   ]
  },
  {
   "cell_type": "code",
   "execution_count": null,
   "metadata": {
    "colab": {
     "base_uri": "https://localhost:8080/",
     "height": 121
    },
    "id": "OQwg8htXhDy_",
    "outputId": "5ef61b6e-b52a-47bd-cb65-82c8463bdb85"
   },
   "outputs": [
    {
     "name": "stdout",
     "output_type": "stream",
     "text": [
      "Go to this URL in a browser: https://accounts.google.com/o/oauth2/auth?client_id=947318989803-6bn6qk8qdgf4n4g3pfee6491hc0brc4i.apps.googleusercontent.com&redirect_uri=urn%3aietf%3awg%3aoauth%3a2.0%3aoob&response_type=code&scope=email%20https%3a%2f%2fwww.googleapis.com%2fauth%2fdocs.test%20https%3a%2f%2fwww.googleapis.com%2fauth%2fdrive%20https%3a%2f%2fwww.googleapis.com%2fauth%2fdrive.photos.readonly%20https%3a%2f%2fwww.googleapis.com%2fauth%2fpeopleapi.readonly\n",
      "\n",
      "Enter your authorization code:\n",
      "··········\n",
      "Mounted at /content/gdrive\n"
     ]
    }
   ],
   "source": [
    "from google.colab import drive\n",
    "drive.mount('/content/gdrive')"
   ]
  },
  {
   "cell_type": "code",
   "execution_count": null,
   "metadata": {
    "colab": {
     "base_uri": "https://localhost:8080/",
     "height": 34
    },
    "id": "ipDNW7fYiKCM",
    "outputId": "6d15db15-c724-4779-a652-deb6f44f988c"
   },
   "outputs": [
    {
     "name": "stdout",
     "output_type": "stream",
     "text": [
      "/content/gdrive/My Drive\n"
     ]
    }
   ],
   "source": [
    "c"
   ]
  },
  {
   "cell_type": "code",
   "execution_count": 3,
   "metadata": {
    "colab": {
     "base_uri": "https://localhost:8080/",
     "height": 252
    },
    "id": "LlE6bIXSg5Rt",
    "outputId": "88e392b8-7012-4e73-d102-6156f2dfb773"
   },
   "outputs": [
    {
     "name": "stdout",
     "output_type": "stream",
     "text": [
      "     Gender  Height  Weight  Index\n",
      "0      Male     174      96      4\n",
      "1      Male     189      87      2\n",
      "2    Female     185     110      4\n",
      "3    Female     195     104      3\n",
      "4      Male     149      61      3\n",
      "..      ...     ...     ...    ...\n",
      "495  Female     150     153      5\n",
      "496  Female     184     121      4\n",
      "497  Female     141     136      5\n",
      "498    Male     150      95      5\n",
      "499    Male     173     131      5\n",
      "\n",
      "[500 rows x 4 columns]\n"
     ]
    }
   ],
   "source": [
    "df=pd.read_csv(\"BMI.csv\")\n",
    "print(df)"
   ]
  },
  {
   "cell_type": "code",
   "execution_count": 4,
   "metadata": {
    "colab": {
     "base_uri": "https://localhost:8080/",
     "height": 252
    },
    "id": "q-3Zk8WNg5R4",
    "outputId": "89911305-cf82-48d2-a3ac-eba42b0ed29b"
   },
   "outputs": [
    {
     "name": "stdout",
     "output_type": "stream",
     "text": [
      "     Gender  Height  Weight  Index        BMI\n",
      "0      Male     174      96      4  31.708284\n",
      "1      Male     189      87      2  24.355421\n",
      "2    Female     185     110      4  32.140248\n",
      "3    Female     195     104      3  27.350427\n",
      "4      Male     149      61      3  27.476240\n",
      "..      ...     ...     ...    ...        ...\n",
      "495  Female     150     153      5  68.000000\n",
      "496  Female     184     121      4  35.739603\n",
      "497  Female     141     136      5  68.407022\n",
      "498    Male     150      95      5  42.222222\n",
      "499    Male     173     131      5  43.770256\n",
      "\n",
      "[500 rows x 5 columns]\n"
     ]
    }
   ],
   "source": [
    "df['BMI']=df['Weight']*100*100/(df['Height']*df['Height'])\n",
    "print(df)"
   ]
  },
  {
   "cell_type": "code",
   "execution_count": 5,
   "metadata": {
    "id": "IYBIbH4wg5SG"
   },
   "outputs": [],
   "source": [
    "df['Index']=df['Index'].replace([0,1],\"Underweight\")\n",
    "df['Index']=df['Index'].replace([2,3],\"Healthy\")\n",
    "df['Index']=df['Index'].replace([4],\"Overweight\")\n",
    "df['Index']=df['Index'].replace([5],\"Obese\")\n",
    "df['Gender']=df['Gender'].replace(\"Male\",1)\n",
    "df['Gender']=df['Gender'].replace(\"Female\",0)"
   ]
  },
  {
   "cell_type": "code",
   "execution_count": 6,
   "metadata": {
    "colab": {
     "base_uri": "https://localhost:8080/",
     "height": 402
    },
    "id": "IETHaqW2g5SN",
    "outputId": "c290644f-05cc-4558-fa0c-252bffd545fc"
   },
   "outputs": [
    {
     "data": {
      "text/html": [
       "<div>\n",
       "<style scoped>\n",
       "    .dataframe tbody tr th:only-of-type {\n",
       "        vertical-align: middle;\n",
       "    }\n",
       "\n",
       "    .dataframe tbody tr th {\n",
       "        vertical-align: top;\n",
       "    }\n",
       "\n",
       "    .dataframe thead th {\n",
       "        text-align: right;\n",
       "    }\n",
       "</style>\n",
       "<table border=\"1\" class=\"dataframe\">\n",
       "  <thead>\n",
       "    <tr style=\"text-align: right;\">\n",
       "      <th></th>\n",
       "      <th>Gender</th>\n",
       "      <th>Height</th>\n",
       "      <th>Weight</th>\n",
       "      <th>Index</th>\n",
       "      <th>BMI</th>\n",
       "    </tr>\n",
       "  </thead>\n",
       "  <tbody>\n",
       "    <tr>\n",
       "      <th>0</th>\n",
       "      <td>1</td>\n",
       "      <td>174</td>\n",
       "      <td>96</td>\n",
       "      <td>Overweight</td>\n",
       "      <td>31.708284</td>\n",
       "    </tr>\n",
       "    <tr>\n",
       "      <th>1</th>\n",
       "      <td>1</td>\n",
       "      <td>189</td>\n",
       "      <td>87</td>\n",
       "      <td>Healthy</td>\n",
       "      <td>24.355421</td>\n",
       "    </tr>\n",
       "    <tr>\n",
       "      <th>2</th>\n",
       "      <td>0</td>\n",
       "      <td>185</td>\n",
       "      <td>110</td>\n",
       "      <td>Overweight</td>\n",
       "      <td>32.140248</td>\n",
       "    </tr>\n",
       "    <tr>\n",
       "      <th>3</th>\n",
       "      <td>0</td>\n",
       "      <td>195</td>\n",
       "      <td>104</td>\n",
       "      <td>Healthy</td>\n",
       "      <td>27.350427</td>\n",
       "    </tr>\n",
       "    <tr>\n",
       "      <th>4</th>\n",
       "      <td>1</td>\n",
       "      <td>149</td>\n",
       "      <td>61</td>\n",
       "      <td>Healthy</td>\n",
       "      <td>27.476240</td>\n",
       "    </tr>\n",
       "    <tr>\n",
       "      <th>...</th>\n",
       "      <td>...</td>\n",
       "      <td>...</td>\n",
       "      <td>...</td>\n",
       "      <td>...</td>\n",
       "      <td>...</td>\n",
       "    </tr>\n",
       "    <tr>\n",
       "      <th>495</th>\n",
       "      <td>0</td>\n",
       "      <td>150</td>\n",
       "      <td>153</td>\n",
       "      <td>Obese</td>\n",
       "      <td>68.000000</td>\n",
       "    </tr>\n",
       "    <tr>\n",
       "      <th>496</th>\n",
       "      <td>0</td>\n",
       "      <td>184</td>\n",
       "      <td>121</td>\n",
       "      <td>Overweight</td>\n",
       "      <td>35.739603</td>\n",
       "    </tr>\n",
       "    <tr>\n",
       "      <th>497</th>\n",
       "      <td>0</td>\n",
       "      <td>141</td>\n",
       "      <td>136</td>\n",
       "      <td>Obese</td>\n",
       "      <td>68.407022</td>\n",
       "    </tr>\n",
       "    <tr>\n",
       "      <th>498</th>\n",
       "      <td>1</td>\n",
       "      <td>150</td>\n",
       "      <td>95</td>\n",
       "      <td>Obese</td>\n",
       "      <td>42.222222</td>\n",
       "    </tr>\n",
       "    <tr>\n",
       "      <th>499</th>\n",
       "      <td>1</td>\n",
       "      <td>173</td>\n",
       "      <td>131</td>\n",
       "      <td>Obese</td>\n",
       "      <td>43.770256</td>\n",
       "    </tr>\n",
       "  </tbody>\n",
       "</table>\n",
       "<p>500 rows × 5 columns</p>\n",
       "</div>"
      ],
      "text/plain": [
       "     Gender  Height  Weight       Index        BMI\n",
       "0         1     174      96  Overweight  31.708284\n",
       "1         1     189      87     Healthy  24.355421\n",
       "2         0     185     110  Overweight  32.140248\n",
       "3         0     195     104     Healthy  27.350427\n",
       "4         1     149      61     Healthy  27.476240\n",
       "..      ...     ...     ...         ...        ...\n",
       "495       0     150     153       Obese  68.000000\n",
       "496       0     184     121  Overweight  35.739603\n",
       "497       0     141     136       Obese  68.407022\n",
       "498       1     150      95       Obese  42.222222\n",
       "499       1     173     131       Obese  43.770256\n",
       "\n",
       "[500 rows x 5 columns]"
      ]
     },
     "execution_count": 6,
     "metadata": {},
     "output_type": "execute_result"
    }
   ],
   "source": [
    "df"
   ]
  },
  {
   "cell_type": "code",
   "execution_count": 7,
   "metadata": {
    "colab": {
     "base_uri": "https://localhost:8080/",
     "height": 151
    },
    "id": "7okG-8_bg5SU",
    "outputId": "bf71ed0b-fb3e-4181-950a-06280d05b415"
   },
   "outputs": [
    {
     "name": "stdout",
     "output_type": "stream",
     "text": [
      "0    255\n",
      "1    245\n",
      "Name: Gender, dtype: int64\n",
      "Obese          198\n",
      "Healthy        137\n",
      "Overweight     130\n",
      "Underweight     35\n",
      "Name: Index, dtype: int64\n"
     ]
    }
   ],
   "source": [
    "print(df['Gender'].value_counts())\n",
    "print(df['Index'].value_counts())"
   ]
  },
  {
   "cell_type": "code",
   "execution_count": 8,
   "metadata": {
    "colab": {
     "base_uri": "https://localhost:8080/",
     "height": 284
    },
    "id": "fJguVHCzg5Sa",
    "outputId": "97ea0065-20fe-492f-a800-f113f8778433"
   },
   "outputs": [
    {
     "data": {
      "text/html": [
       "<div>\n",
       "<style scoped>\n",
       "    .dataframe tbody tr th:only-of-type {\n",
       "        vertical-align: middle;\n",
       "    }\n",
       "\n",
       "    .dataframe tbody tr th {\n",
       "        vertical-align: top;\n",
       "    }\n",
       "\n",
       "    .dataframe thead th {\n",
       "        text-align: right;\n",
       "    }\n",
       "</style>\n",
       "<table border=\"1\" class=\"dataframe\">\n",
       "  <thead>\n",
       "    <tr style=\"text-align: right;\">\n",
       "      <th></th>\n",
       "      <th>Gender</th>\n",
       "      <th>Height</th>\n",
       "      <th>Weight</th>\n",
       "      <th>BMI</th>\n",
       "    </tr>\n",
       "  </thead>\n",
       "  <tbody>\n",
       "    <tr>\n",
       "      <th>count</th>\n",
       "      <td>500.000000</td>\n",
       "      <td>500.000000</td>\n",
       "      <td>500.000000</td>\n",
       "      <td>500.000000</td>\n",
       "    </tr>\n",
       "    <tr>\n",
       "      <th>mean</th>\n",
       "      <td>0.490000</td>\n",
       "      <td>169.944000</td>\n",
       "      <td>106.000000</td>\n",
       "      <td>37.765284</td>\n",
       "    </tr>\n",
       "    <tr>\n",
       "      <th>std</th>\n",
       "      <td>0.500401</td>\n",
       "      <td>16.375261</td>\n",
       "      <td>32.382607</td>\n",
       "      <td>13.965620</td>\n",
       "    </tr>\n",
       "    <tr>\n",
       "      <th>min</th>\n",
       "      <td>0.000000</td>\n",
       "      <td>140.000000</td>\n",
       "      <td>50.000000</td>\n",
       "      <td>12.753801</td>\n",
       "    </tr>\n",
       "    <tr>\n",
       "      <th>25%</th>\n",
       "      <td>0.000000</td>\n",
       "      <td>156.000000</td>\n",
       "      <td>80.000000</td>\n",
       "      <td>27.169353</td>\n",
       "    </tr>\n",
       "    <tr>\n",
       "      <th>50%</th>\n",
       "      <td>0.000000</td>\n",
       "      <td>170.500000</td>\n",
       "      <td>106.000000</td>\n",
       "      <td>36.956941</td>\n",
       "    </tr>\n",
       "    <tr>\n",
       "      <th>75%</th>\n",
       "      <td>1.000000</td>\n",
       "      <td>184.000000</td>\n",
       "      <td>136.000000</td>\n",
       "      <td>46.390467</td>\n",
       "    </tr>\n",
       "    <tr>\n",
       "      <th>max</th>\n",
       "      <td>1.000000</td>\n",
       "      <td>199.000000</td>\n",
       "      <td>160.000000</td>\n",
       "      <td>78.853402</td>\n",
       "    </tr>\n",
       "  </tbody>\n",
       "</table>\n",
       "</div>"
      ],
      "text/plain": [
       "           Gender      Height      Weight         BMI\n",
       "count  500.000000  500.000000  500.000000  500.000000\n",
       "mean     0.490000  169.944000  106.000000   37.765284\n",
       "std      0.500401   16.375261   32.382607   13.965620\n",
       "min      0.000000  140.000000   50.000000   12.753801\n",
       "25%      0.000000  156.000000   80.000000   27.169353\n",
       "50%      0.000000  170.500000  106.000000   36.956941\n",
       "75%      1.000000  184.000000  136.000000   46.390467\n",
       "max      1.000000  199.000000  160.000000   78.853402"
      ]
     },
     "execution_count": 8,
     "metadata": {},
     "output_type": "execute_result"
    }
   ],
   "source": [
    "df.describe()"
   ]
  },
  {
   "cell_type": "code",
   "execution_count": 9,
   "metadata": {
    "colab": {
     "base_uri": "https://localhost:8080/",
     "height": 252
    },
    "id": "z6V2gcWXg5Sh",
    "outputId": "cc76e375-5192-4582-882b-287f3e3439a1"
   },
   "outputs": [
    {
     "name": "stdout",
     "output_type": "stream",
     "text": [
      "     Gender  Height  Weight       Index        BMI\n",
      "0         1     174      96  Overweight  31.708284\n",
      "1         1     189      87     Healthy  24.355421\n",
      "2         0     185     110  Overweight  32.140248\n",
      "3         0     195     104     Healthy  27.350427\n",
      "4         1     149      61     Healthy  27.476240\n",
      "..      ...     ...     ...         ...        ...\n",
      "495       0     150     153       Obese  68.000000\n",
      "496       0     184     121  Overweight  35.739603\n",
      "497       0     141     136       Obese  68.407022\n",
      "498       1     150      95       Obese  42.222222\n",
      "499       1     173     131       Obese  43.770256\n",
      "\n",
      "[500 rows x 5 columns]\n"
     ]
    }
   ],
   "source": [
    "df['BMI']=df['Weight']*100*100/(df['Height']*df['Height'])\n",
    "print(df)"
   ]
  },
  {
   "cell_type": "code",
   "execution_count": 10,
   "metadata": {
    "colab": {
     "base_uri": "https://localhost:8080/",
     "height": 70
    },
    "id": "BLwNp_pvg5Sn",
    "outputId": "8a9e0fea-872e-4adb-eeee-8973e38721ee"
   },
   "outputs": [],
   "source": [
    "import seaborn as sns\n",
    "from matplotlib import pyplot as plt\n",
    "import matplotlib\n",
    "%matplotlib inline"
   ]
  },
  {
   "cell_type": "code",
   "execution_count": 11,
   "metadata": {
    "colab": {
     "base_uri": "https://localhost:8080/",
     "height": 218
    },
    "id": "gmaO5ULbg5St",
    "outputId": "6c01fe05-80d8-47ae-c06d-14ec7ac823ed"
   },
   "outputs": [
    {
     "name": "stdout",
     "output_type": "stream",
     "text": [
      "<class 'pandas.core.frame.DataFrame'>\n",
      "RangeIndex: 500 entries, 0 to 499\n",
      "Data columns (total 5 columns):\n",
      " #   Column  Non-Null Count  Dtype  \n",
      "---  ------  --------------  -----  \n",
      " 0   Gender  500 non-null    int64  \n",
      " 1   Height  500 non-null    int64  \n",
      " 2   Weight  500 non-null    int64  \n",
      " 3   Index   500 non-null    object \n",
      " 4   BMI     500 non-null    float64\n",
      "dtypes: float64(1), int64(3), object(1)\n",
      "memory usage: 19.7+ KB\n"
     ]
    }
   ],
   "source": [
    "df.info()"
   ]
  },
  {
   "cell_type": "code",
   "execution_count": 12,
   "metadata": {
    "colab": {
     "base_uri": "https://localhost:8080/",
     "height": 166
    },
    "id": "u8oLh9IZg5S1",
    "outputId": "5a01adb4-d13b-498c-8f68-48470f0358bd"
   },
   "outputs": [
    {
     "data": {
      "text/html": [
       "<div>\n",
       "<style scoped>\n",
       "    .dataframe tbody tr th:only-of-type {\n",
       "        vertical-align: middle;\n",
       "    }\n",
       "\n",
       "    .dataframe tbody tr th {\n",
       "        vertical-align: top;\n",
       "    }\n",
       "\n",
       "    .dataframe thead th {\n",
       "        text-align: right;\n",
       "    }\n",
       "</style>\n",
       "<table border=\"1\" class=\"dataframe\">\n",
       "  <thead>\n",
       "    <tr style=\"text-align: right;\">\n",
       "      <th></th>\n",
       "      <th>Gender</th>\n",
       "      <th>Height</th>\n",
       "      <th>Weight</th>\n",
       "      <th>BMI</th>\n",
       "    </tr>\n",
       "  </thead>\n",
       "  <tbody>\n",
       "    <tr>\n",
       "      <th>Gender</th>\n",
       "      <td>1.000000</td>\n",
       "      <td>-0.017677</td>\n",
       "      <td>0.009523</td>\n",
       "      <td>0.027142</td>\n",
       "    </tr>\n",
       "    <tr>\n",
       "      <th>Height</th>\n",
       "      <td>-0.017677</td>\n",
       "      <td>1.000000</td>\n",
       "      <td>0.000446</td>\n",
       "      <td>-0.531999</td>\n",
       "    </tr>\n",
       "    <tr>\n",
       "      <th>Weight</th>\n",
       "      <td>0.009523</td>\n",
       "      <td>0.000446</td>\n",
       "      <td>1.000000</td>\n",
       "      <td>0.827022</td>\n",
       "    </tr>\n",
       "    <tr>\n",
       "      <th>BMI</th>\n",
       "      <td>0.027142</td>\n",
       "      <td>-0.531999</td>\n",
       "      <td>0.827022</td>\n",
       "      <td>1.000000</td>\n",
       "    </tr>\n",
       "  </tbody>\n",
       "</table>\n",
       "</div>"
      ],
      "text/plain": [
       "          Gender    Height    Weight       BMI\n",
       "Gender  1.000000 -0.017677  0.009523  0.027142\n",
       "Height -0.017677  1.000000  0.000446 -0.531999\n",
       "Weight  0.009523  0.000446  1.000000  0.827022\n",
       "BMI     0.027142 -0.531999  0.827022  1.000000"
      ]
     },
     "execution_count": 12,
     "metadata": {},
     "output_type": "execute_result"
    }
   ],
   "source": [
    "df.corr()"
   ]
  },
  {
   "cell_type": "code",
   "execution_count": 13,
   "metadata": {
    "colab": {
     "base_uri": "https://localhost:8080/",
     "height": 272
    },
    "id": "rgr0Wkfqg5S8",
    "outputId": "f8906f32-641b-40be-f2e3-480facdd0231"
   },
   "outputs": [
    {
     "data": {
      "image/png": "[encoded data removed]",
      "text/plain": [
       "<Figure size 432x288 with 2 Axes>"
      ]
     },
     "metadata": {},
     "output_type": "display_data"
    }
   ],
   "source": [
    "import seaborn as sns; sns.set()\n",
    "ax = sns.heatmap(df.corr())"
   ]
  },
  {
   "cell_type": "markdown",
   "metadata": {
    "id": "3GHHNawNg5TE"
   },
   "source": [
    "## Predict values"
   ]
  },
  {
   "cell_type": "markdown",
   "metadata": {
    "id": "Ij0OKPODg5TF"
   },
   "source": [
    "### Accept Input"
   ]
  },
  {
   "cell_type": "code",
   "execution_count": null,
   "metadata": {
    "colab": {
     "base_uri": "https://localhost:8080/",
     "height": 246
    },
    "id": "Qj8woyR2g5TG",
    "outputId": "a957feb9-2b6f-4fcd-e47c-8580339edc76"
   },
   "outputs": [],
   "source": [
    "q=input().split()\n",
    "gend=q[0]\n",
    "h=float(q[1])\n",
    "w=float(q[2])\n",
    "predict(h,w)"
   ]
  },
  {
   "cell_type": "markdown",
   "metadata": {
    "id": "Eu4zEoUqg5TL"
   },
   "source": [
    "### predict function"
   ]
  },
  {
   "cell_type": "code",
   "execution_count": 15,
   "metadata": {
    "id": "YeUn21lhg5TM"
   },
   "outputs": [],
   "source": [
    "import math\n",
    "import statistics\n",
    "from collections import Counter \n",
    "\n",
    "def predict(h,w,k,gen):\n",
    "    vals=[]\n",
    "    for index,row in df.iterrows():\n",
    "      if(row['Gender']==gen):\n",
    "        x=math.sqrt((row['Height']-h)**2+(row['Weight']-w)**2)\n",
    "        vals.append([x,row['Index']])\n",
    "    vals.sort(key = lambda x: x[0]) \n",
    "    labels=[x[1] for x in vals[1:k+1]]\n",
    "    labels=Counter(labels)\n",
    "    res = labels.most_common(1)[0][0] \n",
    "    return(res)"
   ]
  },
  {
   "cell_type": "markdown",
   "metadata": {
    "id": "cAddq8IFg5TR"
   },
   "source": [
    "## Test accuracy for various k values"
   ]
  },
  {
   "cell_type": "code",
   "execution_count": null,
   "metadata": {
    "colab": {
     "base_uri": "https://localhost:8080/",
     "height": 470
    },
    "id": "nXK4Wy7Ig5TS",
    "outputId": "6a400ef0-a41b-436c-c598-394235cf7027"
   },
   "outputs": [
    {
     "name": "stdout",
     "output_type": "stream",
     "text": [
      "K Value \t Accuracy\n",
      "1 \t 0.904\n",
      "2 \t 0.904\n",
      "3 \t 0.912\n",
      "4 \t 0.916\n",
      "5 \t 0.914\n",
      "6 \t 0.926\n",
      "7 \t 0.926\n",
      "8 \t 0.928\n",
      "9 \t 0.914\n",
      "10 \t 0.922\n",
      "11 \t 0.908\n",
      "12 \t 0.92\n",
      "13 \t 0.9\n",
      "14 \t 0.91\n",
      "15 \t 0.902\n",
      "16 \t 0.912\n",
      "17 \t 0.904\n",
      "18 \t 0.906\n",
      "19 \t 0.9\n",
      "20 \t 0.898\n",
      "21 \t 0.898\n",
      "22 \t 0.904\n",
      "23 \t 0.892\n",
      "24 \t 0.894\n",
      "25 \t 0.878\n",
      "26 \t 0.876\n"
     ]
    }
   ],
   "source": [
    "print(\"K Value \\t Accuracy\",)\n",
    "for k in range(1,25):\n",
    "    tru=0\n",
    "    fal=0\n",
    "    for index,row in df.iterrows():\n",
    "        res=predict(row['Height'],row['Weight'],k,row['Gender'])\n",
    "        if(res==row['Index']):\n",
    "            tru+=1\n",
    "        else:\n",
    "            fal+=1\n",
    "    print(k,\"\\t\",tru/(tru+fal))"
   ]
  }
 ],
 "metadata": {
  "colab": {
   "collapsed_sections": [],
   "name": "KNN implementation.ipynb",
   "provenance": []
  },
  "kernelspec": {
   "display_name": "Python 3",
   "language": "python",
   "name": "python3"
  },
  "language_info": {
   "codemirror_mode": {
    "name": "ipython",
    "version": 3
   },
   "file_extension": ".py",
   "mimetype": "text/x-python",
   "name": "python",
   "nbconvert_exporter": "python",
   "pygments_lexer": "ipython3",
   "version": "3.8.3"
  }
 },
 "nbformat": 4,
 "nbformat_minor": 1
}
