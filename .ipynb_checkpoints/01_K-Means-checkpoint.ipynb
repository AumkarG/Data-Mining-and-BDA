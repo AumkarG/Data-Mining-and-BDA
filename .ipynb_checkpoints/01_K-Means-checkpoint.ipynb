{
 "cells": [
  {
   "cell_type": "code",
   "execution_count": 15,
   "metadata": {},
   "outputs": [
    {
     "name": "stdout",
     "output_type": "stream",
     "text": [
      "[9, 31, 2, 8, 24, 29, 13, 0, 14, 0, 5, 28, 6, 26, 0, 32, 5, 33, 3, 23, 22, 28, 32, 35, 5]\n"
     ]
    }
   ],
   "source": [
    "import random\n",
    "import numpy as np\n",
    "from random import randint\n",
    "x = [randint(0, 35) for p in range(0, 25)]\n",
    "print(x)"
   ]
  },
  {
   "cell_type": "code",
   "execution_count": 18,
   "metadata": {},
   "outputs": [
    {
     "name": "stdout",
     "output_type": "stream",
     "text": [
      "[[], [], []]\n",
      "[8, 18, 6]\n"
     ]
    }
   ],
   "source": [
    "k=3\n",
    "centres=[randint(1,30) for p in range(k)]\n",
    "centres\n",
    "clusters=[]\n",
    "for i in range(k):\n",
    "    clusters.append([])\n",
    "print(clusters)\n",
    "print(centres)"
   ]
  },
  {
   "cell_type": "code",
   "execution_count": 46,
   "metadata": {},
   "outputs": [],
   "source": [
    "n=len(x)\n",
    "allocations=[-1]*n\n",
    "sums=[0]*k\n",
    "centres=np.array(centres)\n",
    "counts=[0]*k\n",
    "flag=1\n",
    "while flag!=0:\n",
    "    flag=0\n",
    "    for i in range(n):\n",
    "        dist=abs(centres-x[i])\n",
    "        if allocations[i]!=np.argmin(dist):\n",
    "            allocations[i]=np.argmin(dist)\n",
    "            flag=1\n",
    "    \n",
    "    for i in range(len(x)):\n",
    "        sums[allocations[i]]+=x[i]\n",
    "        counts[allocations[i]]+=1\n",
    "    \n",
    "    for i in range(k):\n",
    "        if counts[i]!=0:\n",
    "            centres[i]=sums[i]/counts[i]\n",
    "    counts=[0]*n\n",
    "    sums=[0]*n"
   ]
  },
  {
   "cell_type": "markdown",
   "metadata": {},
   "source": [
    "### Centres"
   ]
  },
  {
   "cell_type": "code",
   "execution_count": 47,
   "metadata": {},
   "outputs": [
    {
     "name": "stdout",
     "output_type": "stream",
     "text": [
      "[10 28  2]\n"
     ]
    }
   ],
   "source": [
    "print(centres)"
   ]
  },
  {
   "cell_type": "markdown",
   "metadata": {},
   "source": [
    "### Allocations"
   ]
  },
  {
   "cell_type": "code",
   "execution_count": 48,
   "metadata": {},
   "outputs": [
    {
     "data": {
      "text/plain": [
       "[0, 1, 2, 0, 1, 1, 0, 2, 0, 2, 2, 1, 0, 1, 2, 1, 2, 1, 2, 1, 1, 1, 1, 1, 2]"
      ]
     },
     "execution_count": 48,
     "metadata": {},
     "output_type": "execute_result"
    }
   ],
   "source": [
    "allocations"
   ]
  },
  {
   "cell_type": "markdown",
   "metadata": {},
   "source": [
    "### Clusters"
   ]
  },
  {
   "cell_type": "code",
   "execution_count": 49,
   "metadata": {},
   "outputs": [],
   "source": [
    "for i in range(n):\n",
    "    clusters[allocations[i]].append(x[i])"
   ]
  },
  {
   "cell_type": "code",
   "execution_count": 50,
   "metadata": {},
   "outputs": [
    {
     "name": "stdout",
     "output_type": "stream",
     "text": [
      "[9, 8, 13, 14, 6, 9, 8, 13, 14, 6]\n",
      "[31, 24, 29, 28, 26, 32, 33, 23, 22, 28, 32, 35, 31, 24, 29, 28, 26, 32, 33, 23, 22, 28, 32, 35]\n",
      "[2, 0, 0, 5, 0, 5, 3, 5, 2, 0, 0, 5, 0, 5, 3, 5]\n"
     ]
    }
   ],
   "source": [
    "for cluster in clusters:\n",
    "    print(cluster)"
   ]
  }
 ],
 "metadata": {
  "kernelspec": {
   "display_name": "Python 3",
   "language": "python",
   "name": "python3"
  },
  "language_info": {
   "codemirror_mode": {
    "name": "ipython",
    "version": 3
   },
   "file_extension": ".py",
   "mimetype": "text/x-python",
   "name": "python",
   "nbconvert_exporter": "python",
   "pygments_lexer": "ipython3",
   "version": "3.8.3"
  }
 },
 "nbformat": 4,
 "nbformat_minor": 4
}
