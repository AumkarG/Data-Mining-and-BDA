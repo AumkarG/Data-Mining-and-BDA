{
 "cells": [
  {
   "cell_type": "code",
   "execution_count": 205,
   "metadata": {},
   "outputs": [],
   "source": [
    "import numpy as np\n",
    "import pandas as pd"
   ]
  },
  {
   "cell_type": "markdown",
   "metadata": {},
   "source": [
    "## Frequent Item sets"
   ]
  },
  {
   "cell_type": "code",
   "execution_count": 331,
   "metadata": {},
   "outputs": [
    {
     "data": {
      "text/html": [
       "<div>\n",
       "<style scoped>\n",
       "    .dataframe tbody tr th:only-of-type {\n",
       "        vertical-align: middle;\n",
       "    }\n",
       "\n",
       "    .dataframe tbody tr th {\n",
       "        vertical-align: top;\n",
       "    }\n",
       "\n",
       "    .dataframe thead th {\n",
       "        text-align: right;\n",
       "    }\n",
       "</style>\n",
       "<table border=\"1\" class=\"dataframe\">\n",
       "  <thead>\n",
       "    <tr style=\"text-align: right;\">\n",
       "      <th></th>\n",
       "      <th>0</th>\n",
       "      <th>1</th>\n",
       "    </tr>\n",
       "  </thead>\n",
       "  <tbody>\n",
       "    <tr>\n",
       "      <th>0</th>\n",
       "      <td>T1</td>\n",
       "      <td>I1,I2,I3</td>\n",
       "    </tr>\n",
       "    <tr>\n",
       "      <th>1</th>\n",
       "      <td>T2</td>\n",
       "      <td>I2,I3,I4</td>\n",
       "    </tr>\n",
       "    <tr>\n",
       "      <th>2</th>\n",
       "      <td>T3</td>\n",
       "      <td>I4,I5</td>\n",
       "    </tr>\n",
       "    <tr>\n",
       "      <th>3</th>\n",
       "      <td>T4</td>\n",
       "      <td>I1,I2,I4</td>\n",
       "    </tr>\n",
       "    <tr>\n",
       "      <th>4</th>\n",
       "      <td>T5</td>\n",
       "      <td>I1,I2,I3,I5</td>\n",
       "    </tr>\n",
       "    <tr>\n",
       "      <th>5</th>\n",
       "      <td>T6</td>\n",
       "      <td>I1,I2,I3,I4</td>\n",
       "    </tr>\n",
       "  </tbody>\n",
       "</table>\n",
       "</div>"
      ],
      "text/plain": [
       "    0            1\n",
       "0  T1     I1,I2,I3\n",
       "1  T2     I2,I3,I4\n",
       "2  T3        I4,I5\n",
       "3  T4     I1,I2,I4\n",
       "4  T5  I1,I2,I3,I5\n",
       "5  T6  I1,I2,I3,I4"
      ]
     },
     "execution_count": 331,
     "metadata": {},
     "output_type": "execute_result"
    }
   ],
   "source": [
    "transaction=pd.read_clipboard(header=None)\n",
    "transaction"
   ]
  },
  {
   "cell_type": "code",
   "execution_count": 352,
   "metadata": {},
   "outputs": [
    {
     "data": {
      "text/plain": [
       "[['A', 'B', 'C'],\n",
       " ['B', 'C', 'D'],\n",
       " ['D', 'E'],\n",
       " ['A', 'B', 'D'],\n",
       " ['A', 'B', 'C', 'E'],\n",
       " ['A', 'B', 'C', 'D']]"
      ]
     },
     "execution_count": 352,
     "metadata": {},
     "output_type": "execute_result"
    }
   ],
   "source": [
    "transactions=[x.split(',') for x in transaction[1]]\n",
    "transactions=[[chr(int(i[1])+64) for i in x] for x in transactions]\n",
    "transactions"
   ]
  },
  {
   "cell_type": "code",
   "execution_count": 362,
   "metadata": {},
   "outputs": [],
   "source": [
    "support=3"
   ]
  },
  {
   "cell_type": "code",
   "execution_count": 363,
   "metadata": {},
   "outputs": [],
   "source": [
    "def recurse(lst,count,curr,k,freq):\n",
    "    n=len(lst)\n",
    "    if len(curr)==k:\n",
    "        if tuple(curr) in freq:\n",
    "            freq[tuple(curr)]+=1\n",
    "    else:\n",
    "        l=len(curr)\n",
    "        if l==0 or tuple(curr) in fps[l]:\n",
    "            for i in range(count+1,n):\n",
    "                curr=[j for j in curr[:l]]\n",
    "                curr.append(lst[i])\n",
    "                recurse(lst,i,curr,k,freq)"
   ]
  },
  {
   "cell_type": "markdown",
   "metadata": {},
   "source": [
    "### Step 1 : Finding frequent pairs"
   ]
  },
  {
   "cell_type": "code",
   "execution_count": 364,
   "metadata": {},
   "outputs": [
    {
     "name": "stdout",
     "output_type": "stream",
     "text": [
      "Candidates :\n",
      "{1: {('A',): 4, ('B',): 5, ('C',): 4, ('D',): 4, ('E',): 2}}\n",
      "Frequent candidates :\n",
      "{1: {('A',): 4, ('B',): 5, ('C',): 4, ('D',): 4}}\n"
     ]
    }
   ],
   "source": [
    "candidates=dict()\n",
    "    \n",
    "for i in transactions:\n",
    "    for j in i:\n",
    "        if tuple(j,) not in candidates:\n",
    "            candidates[tuple(j,)]=1\n",
    "        else:\n",
    "            candidates[tuple(j,)]+=1\n",
    "\n",
    "\n",
    "freq=dict()\n",
    "for i in candidates:\n",
    "    if candidates[i]>=support:\n",
    "        freq[tuple(i)]=candidates[i]\n",
    "\n",
    "cps=dict()\n",
    "fps=dict()\n",
    "cps[1]=candidates\n",
    "fps[1]=freq\n",
    "print(\"Candidates :\")\n",
    "print(cps)\n",
    "print(\"Frequent candidates :\")\n",
    "print(fps)"
   ]
  },
  {
   "cell_type": "markdown",
   "metadata": {},
   "source": [
    "### Step 2"
   ]
  },
  {
   "cell_type": "code",
   "execution_count": 365,
   "metadata": {},
   "outputs": [
    {
     "name": "stdout",
     "output_type": "stream",
     "text": [
      "Candidate Pairs :\n",
      "{('A', 'B'): 4, ('A', 'C'): 3, ('A', 'D'): 2, ('B', 'C'): 4, ('B', 'D'): 3, ('C', 'D'): 2}\n",
      "Frequent Pairs :\n",
      "('A', 'B') 4\n",
      "('A', 'C') 3\n",
      "('B', 'C') 4\n",
      "('B', 'D') 3\n",
      "2\n",
      "1\n",
      "Candidate Pairs :\n",
      "{('A', 'B', 'C'): 3, ('A', 'B', 'D'): 2, ('B', 'C', 'D'): 2}\n",
      "Frequent Pairs :\n",
      "('A', 'B', 'C') 3\n",
      "3\n",
      "1\n",
      "Candidate Pairs :\n",
      "{}\n"
     ]
    }
   ],
   "source": [
    "k=2\n",
    "new=1\n",
    "while(new!=0):\n",
    "    new=0\n",
    "    cand=dict()\n",
    "    vals=list(fps[k-1].keys())\n",
    "    vals.sort()\n",
    "    n=len(vals)\n",
    "    for i in range(n):\n",
    "        s=list(vals[i])\n",
    "        for j in range(i+1,n):\n",
    "            s1=list(vals[j])\n",
    "            s.extend(s1)\n",
    "            st=set(s)\n",
    "            if len(st)==k:\n",
    "                tp=list(st)\n",
    "                tp.sort()\n",
    "                if tuple(tp) not in cand:\n",
    "                    cand[tuple(tp)]=0\n",
    "            s=list(vals[i])\n",
    "    curr=[]\n",
    "    for j in transactions:\n",
    "        recurse(j,-1,curr,k,cand)\n",
    "    print(\"Candidate Pairs :\")\n",
    "    print(cand)\n",
    "    if cand=={}:\n",
    "        new=0\n",
    "    else:\n",
    "        z=list(cand.keys())[0]\n",
    "        print(\"Frequent Pairs :\")\n",
    "        freq=dict()\n",
    "        for i in cand:\n",
    "            if cand[i]>=support:\n",
    "                print(i,cand[i])\n",
    "                new=1\n",
    "                freq[i]=cand[i]\n",
    "        z=len(list(cand.keys())[0])\n",
    "\n",
    "        print(z)\n",
    "        print(new)\n",
    "        fps[z]=freq\n",
    "        k+=1"
   ]
  },
  {
   "cell_type": "markdown",
   "metadata": {},
   "source": [
    "### Frequent Pairs"
   ]
  },
  {
   "cell_type": "code",
   "execution_count": 366,
   "metadata": {},
   "outputs": [
    {
     "data": {
      "text/plain": [
       "{1: {('A',): 4, ('B',): 5, ('C',): 4, ('D',): 4},\n",
       " 2: {('A', 'B'): 4, ('A', 'C'): 3, ('B', 'C'): 4, ('B', 'D'): 3},\n",
       " 3: {('A', 'B', 'C'): 3}}"
      ]
     },
     "execution_count": 366,
     "metadata": {},
     "output_type": "execute_result"
    }
   ],
   "source": [
    "fps"
   ]
  },
  {
   "cell_type": "markdown",
   "metadata": {},
   "source": [
    "### Association rules"
   ]
  },
  {
   "cell_type": "code",
   "execution_count": 367,
   "metadata": {},
   "outputs": [
    {
     "name": "stdout",
     "output_type": "stream",
     "text": [
      "3\n"
     ]
    }
   ],
   "source": [
    "total=len(fps)\n",
    "print(total)"
   ]
  },
  {
   "cell_type": "code",
   "execution_count": 368,
   "metadata": {},
   "outputs": [
    {
     "name": "stdout",
     "output_type": "stream",
     "text": [
      "Generated association rules\n"
     ]
    }
   ],
   "source": [
    "import itertools\n",
    "generate = [0,1]\n",
    "trans_len=len(transactions)\n",
    "X=[]\n",
    "Y=[]\n",
    "supp=[]\n",
    "conf=[]\n",
    "lift=[]\n",
    "\n",
    "\n",
    "\n",
    "for i in range(2,total+1):\n",
    "    itemsets=fps[i]\n",
    "    for s in itemsets:\n",
    "        l=len(s)\n",
    "        combs=[p for p in itertools.product(generate, repeat=l)]\n",
    "        for j in range(1,len(combs)-1):\n",
    "            rule=combs[j]\n",
    "            x=[]\n",
    "            y=[]\n",
    "            for k in range(l):\n",
    "                if rule[k]==0:\n",
    "                    x.append(s[k])\n",
    "                else:\n",
    "                    y.append(s[k])\n",
    "                l1=len(x)\n",
    "                l2=len(y)\n",
    "            num=itemsets[s]\n",
    "            den=fps[l1][tuple(x)]\n",
    "            lfcount=fps[l2][tuple(y)]\n",
    "            supp.append(num/trans_len)\n",
    "            conf.append(num/den)\n",
    "            lift.append((num/den)*trans_len/lfcount)\n",
    "            X.append(tuple(x))\n",
    "            Y.append(tuple(y))\n",
    "print(\"Generated association rules\")"
   ]
  },
  {
   "cell_type": "code",
   "execution_count": 369,
   "metadata": {},
   "outputs": [
    {
     "name": "stdout",
     "output_type": "stream",
     "text": [
      "X      Y      Support  Confidence  Lift  \n",
      "(A)    (B)    0.67     1.00        1.20  \n",
      "(B)    (A)    0.67     0.80        1.20  \n",
      "(A)    (C)    0.50     0.75        1.12  \n",
      "(C)    (A)    0.50     0.75        1.12  \n",
      "(B)    (C)    0.67     0.80        1.20  \n",
      "(C)    (B)    0.67     1.00        1.20  \n",
      "(B)    (D)    0.50     0.60        0.90  \n",
      "(D)    (B)    0.50     0.75        0.90  \n",
      "(A,B)  (C)    0.50     0.75        1.12  \n",
      "(A,C)  (B)    0.50     1.00        1.20  \n",
      "(A)    (B,C)  0.50     0.75        1.12  \n",
      "(B,C)  (A)    0.50     0.75        1.12  \n",
      "(B)    (A,C)  0.50     0.60        1.20  \n",
      "(C)    (A,B)  0.50     0.75        1.12  \n"
     ]
    }
   ],
   "source": [
    "n_rules=len(X) \n",
    "lsts=[[\"X\",\"Y\",\"Support\",\"Confidence\",\"Lift\"]]\n",
    "for i in range(n_rules):\n",
    "    x=\"(\"+str(X[i][0])\n",
    "    for it in X[i][1:]:\n",
    "        x+=\",\"+str(it)\n",
    "    x+=\")\"\n",
    "    y=\"(\"+str(Y[i][0])\n",
    "    for it in Y[i][1:]:\n",
    "        y+=\",\"+str(it)\n",
    "    y+=\")\"  \n",
    "    s=\"\"+str(x)+\" \"+str(y)+\" \"+'%.2f'%supp[i]+\" \"+'%.2f'%conf[i]+\" \"+'%.2f'%lift[i]\n",
    "    lsts.append(s.split())\n",
    "sizes = [max(len(item) for item in l) + 2 for l in zip(*lsts)]\n",
    "\n",
    "for lst in lsts:\n",
    "    print(\"\".join(word.ljust(sizes[i]) for i, word in enumerate(lst)))"
   ]
  }
 ],
 "metadata": {
  "kernelspec": {
   "display_name": "Python 3",
   "language": "python",
   "name": "python3"
  },
  "language_info": {
   "codemirror_mode": {
    "name": "ipython",
    "version": 3
   },
   "file_extension": ".py",
   "mimetype": "text/x-python",
   "name": "python",
   "nbconvert_exporter": "python",
   "pygments_lexer": "ipython3",
   "version": "3.8.3"
  }
 },
 "nbformat": 4,
 "nbformat_minor": 4
}
