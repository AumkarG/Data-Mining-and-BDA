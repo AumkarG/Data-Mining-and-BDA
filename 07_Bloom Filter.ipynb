{
 "cells": [
  {
   "cell_type": "code",
   "execution_count": 1,
   "metadata": {},
   "outputs": [],
   "source": [
    "import random\n",
    "import numpy as np\n",
    "from random import randint"
   ]
  },
  {
   "cell_type": "markdown",
   "metadata": {},
   "source": [
    "### URL scraping example with bloom filter"
   ]
  },
  {
   "cell_type": "code",
   "execution_count": 2,
   "metadata": {},
   "outputs": [],
   "source": [
    "stream=[randint(0,50) for i in range(30)]"
   ]
  },
  {
   "cell_type": "code",
   "execution_count": 4,
   "metadata": {},
   "outputs": [
    {
     "name": "stdout",
     "output_type": "stream",
     "text": [
      "[30, 18, 24, 11, 18, 21, 34, 43, 36, 30, 22, 47, 24, 3, 3, 50, 23, 48, 38, 19, 42, 34, 44, 24, 1, 31, 43, 7, 12, 19]\n"
     ]
    }
   ],
   "source": [
    "print(stream)"
   ]
  },
  {
   "cell_type": "code",
   "execution_count": 22,
   "metadata": {},
   "outputs": [],
   "source": [
    "filter=[0]*11"
   ]
  },
  {
   "cell_type": "code",
   "execution_count": 23,
   "metadata": {},
   "outputs": [
    {
     "name": "stdout",
     "output_type": "stream",
     "text": [
      "3 6\n",
      "Not encountered Before\n",
      "[0, 0, 0, 1, 0, 0, 1, 0, 0, 0, 0]\n",
      "1 4\n",
      "Not encountered Before\n",
      "[0, 1, 0, 1, 1, 0, 1, 0, 0, 0, 0]\n",
      "2 4\n",
      "Not encountered Before\n",
      "[0, 1, 1, 1, 1, 0, 1, 0, 0, 0, 0]\n",
      "3 1\n",
      "Possibly encountered before\n",
      "[0, 1, 1, 1, 1, 0, 1, 0, 0, 0, 0]\n",
      "1 4\n",
      "Possibly encountered before\n",
      "[0, 1, 1, 1, 1, 0, 1, 0, 0, 0, 0]\n",
      "0 7\n",
      "Not encountered Before\n",
      "[1, 1, 1, 1, 1, 0, 1, 1, 0, 0, 0]\n",
      "5 0\n",
      "Not encountered Before\n",
      "[1, 1, 1, 1, 1, 1, 1, 1, 0, 0, 0]\n",
      "7 1\n",
      "Possibly encountered before\n",
      "[1, 1, 1, 1, 1, 1, 1, 1, 0, 0, 0]\n",
      "4 2\n",
      "Possibly encountered before\n",
      "[1, 1, 1, 1, 1, 1, 1, 1, 0, 0, 0]\n",
      "3 6\n",
      "Possibly encountered before\n",
      "[1, 1, 1, 1, 1, 1, 1, 1, 0, 0, 0]\n",
      "1 6\n",
      "Possibly encountered before\n",
      "[1, 1, 1, 1, 1, 1, 1, 1, 0, 0, 0]\n",
      "7 3\n",
      "Possibly encountered before\n",
      "[1, 1, 1, 1, 1, 1, 1, 1, 0, 0, 0]\n",
      "2 4\n",
      "Possibly encountered before\n",
      "[1, 1, 1, 1, 1, 1, 1, 1, 0, 0, 0]\n",
      "1 1\n",
      "Possibly encountered before\n",
      "[1, 1, 1, 1, 1, 1, 1, 1, 0, 0, 0]\n",
      "1 1\n",
      "Possibly encountered before\n",
      "[1, 1, 1, 1, 1, 1, 1, 1, 0, 0, 0]\n",
      "5 4\n",
      "Possibly encountered before\n",
      "[1, 1, 1, 1, 1, 1, 1, 1, 0, 0, 0]\n",
      "1 7\n",
      "Possibly encountered before\n",
      "[1, 1, 1, 1, 1, 1, 1, 1, 0, 0, 0]\n",
      "4 4\n",
      "Possibly encountered before\n",
      "[1, 1, 1, 1, 1, 1, 1, 1, 0, 0, 0]\n",
      "5 2\n",
      "Possibly encountered before\n",
      "[1, 1, 1, 1, 1, 1, 1, 1, 0, 0, 0]\n",
      "1 5\n",
      "Possibly encountered before\n",
      "[1, 1, 1, 1, 1, 1, 1, 1, 0, 0, 0]\n",
      "7 0\n",
      "Possibly encountered before\n",
      "[1, 1, 1, 1, 1, 1, 1, 1, 0, 0, 0]\n",
      "5 0\n",
      "Possibly encountered before\n",
      "[1, 1, 1, 1, 1, 1, 1, 1, 0, 0, 0]\n",
      "6 2\n",
      "Possibly encountered before\n",
      "[1, 1, 1, 1, 1, 1, 1, 1, 0, 0, 0]\n",
      "2 4\n",
      "Possibly encountered before\n",
      "[1, 1, 1, 1, 1, 1, 1, 1, 0, 0, 0]\n",
      "0 1\n",
      "Possibly encountered before\n",
      "[1, 1, 1, 1, 1, 1, 1, 1, 0, 0, 0]\n",
      "3 7\n",
      "Possibly encountered before\n",
      "[1, 1, 1, 1, 1, 1, 1, 1, 0, 0, 0]\n",
      "7 1\n",
      "Possibly encountered before\n",
      "[1, 1, 1, 1, 1, 1, 1, 1, 0, 0, 0]\n",
      "1 3\n",
      "Possibly encountered before\n",
      "[1, 1, 1, 1, 1, 1, 1, 1, 0, 0, 0]\n",
      "2 2\n",
      "Possibly encountered before\n",
      "[1, 1, 1, 1, 1, 1, 1, 1, 0, 0, 0]\n",
      "1 5\n",
      "Possibly encountered before\n",
      "[1, 1, 1, 1, 1, 1, 1, 1, 0, 0, 0]\n"
     ]
    }
   ],
   "source": [
    "for i in stream:\n",
    "    binary=bin(i)[2:]\n",
    "    a=\"\"\n",
    "    b=\"\"\n",
    "    count=0\n",
    "    for j in binary[::-1]: \n",
    "        if count==0:\n",
    "            b+=j\n",
    "            count=1\n",
    "        else:\n",
    "            a+=j\n",
    "            count=0\n",
    "    a=\"0\"+a[::-1]\n",
    "    b=\"0\"+b[::-1]\n",
    "    hash1=int(a,2)%11\n",
    "    hash2=int(b,2)%11\n",
    "    print(hash1,hash2)\n",
    "    if filter[hash1]==0 or filter[hash2]==0:\n",
    "        print(\"Not encountered Before\")\n",
    "        filter[hash1]=1\n",
    "        filter[hash2]=1\n",
    "    else:\n",
    "        filter[hash1]=1\n",
    "        filter[hash2]=1\n",
    "        print(\"Possibly encountered before\")\n",
    "    print(filter)"
   ]
  },
  {
   "cell_type": "markdown",
   "metadata": {},
   "source": [
    "### Spam email classification"
   ]
  },
  {
   "cell_type": "code",
   "execution_count": 29,
   "metadata": {},
   "outputs": [
    {
     "data": {
      "text/plain": [
       "[65, 16, 6, 57, 94, 30, 39, 14, 89, 99, 12, 20, 61, 23, 62, 69, 80, 82, 38, 52]"
      ]
     },
     "execution_count": 29,
     "metadata": {},
     "output_type": "execute_result"
    }
   ],
   "source": [
    "import random\n",
    "valid=random.sample(range(1, 100), 20)\n",
    "valid"
   ]
  },
  {
   "cell_type": "code",
   "execution_count": 37,
   "metadata": {},
   "outputs": [
    {
     "name": "stdout",
     "output_type": "stream",
     "text": [
      "[483, 38, 254, 92, 170, 142, 158, 40, 278, 310, 158, 489, 252, 140, 412, 165, 262, 402, 388, 295, 227, 400, 114, 480, 449, 436, 119, 31, 98, 435, 457, 209, 393, 383, 224, 359, 161, 379, 94, 280, 247, 50, 498, 460, 396, 200, 465, 395, 74, 248, 335, 72, 287, 205, 408, 330, 165, 49, 390, 212, 50, 145, 194, 334, 330, 483, 52, 143, 427, 370, 267, 330, 381, 165, 447, 159, 348, 177, 94, 23, 273, 484, 70, 92, 229, 335, 34, 50, 119, 472, 54, 164, 120, 108, 449, 84, 324, 100, 8, 499, 257, 94, 349, 87, 400, 438, 268, 479, 103, 73, 120, 333, 270, 117, 320, 233, 307, 325, 182, 162, 17, 325, 66, 406, 33, 362, 356, 297, 447, 336, 71, 12, 285, 312, 458, 295, 114, 449, 451, 473, 224, 352, 311, 449, 338, 99, 378, 230, 98, 279, 245, 340, 499, 191, 206, 427, 285, 253, 20, 144, 200, 478, 85, 111, 76, 263, 459, 436, 55, 87, 101, 342, 188, 443, 406, 348, 430, 340, 425, 50, 471, 440, 490, 228, 328, 330, 321, 201, 317, 74, 19, 420, 74, 36, 287, 324, 156, 204, 376, 346]\n"
     ]
    }
   ],
   "source": [
    "stream=[random.randint(1,500) for i in range(200)]\n",
    "print(stream)"
   ]
  },
  {
   "cell_type": "code",
   "execution_count": 38,
   "metadata": {},
   "outputs": [],
   "source": [
    "filter=[0]*100"
   ]
  },
  {
   "cell_type": "code",
   "execution_count": 40,
   "metadata": {},
   "outputs": [],
   "source": [
    "for i in valid:\n",
    "    filter[i%100]=1"
   ]
  },
  {
   "cell_type": "code",
   "execution_count": 42,
   "metadata": {},
   "outputs": [
    {
     "name": "stdout",
     "output_type": "stream",
     "text": [
      "483 Invalid\n",
      "38 May be valid\n",
      "254 Invalid\n",
      "92 Invalid\n",
      "170 Invalid\n",
      "142 Invalid\n",
      "158 Invalid\n",
      "40 Invalid\n",
      "278 Invalid\n",
      "310 Invalid\n",
      "158 Invalid\n",
      "489 May be valid\n",
      "252 May be valid\n",
      "140 Invalid\n",
      "412 May be valid\n",
      "165 May be valid\n",
      "262 May be valid\n",
      "402 Invalid\n",
      "388 Invalid\n",
      "295 Invalid\n",
      "227 Invalid\n",
      "400 Invalid\n",
      "114 May be valid\n",
      "480 May be valid\n",
      "449 Invalid\n",
      "436 Invalid\n",
      "119 Invalid\n",
      "31 Invalid\n",
      "98 Invalid\n",
      "435 Invalid\n",
      "457 May be valid\n",
      "209 Invalid\n",
      "393 Invalid\n",
      "383 Invalid\n",
      "224 Invalid\n",
      "359 Invalid\n",
      "161 May be valid\n",
      "379 Invalid\n",
      "94 May be valid\n",
      "280 May be valid\n",
      "247 Invalid\n",
      "50 Invalid\n",
      "498 Invalid\n",
      "460 Invalid\n",
      "396 Invalid\n",
      "200 Invalid\n",
      "465 May be valid\n",
      "395 Invalid\n",
      "74 Invalid\n",
      "248 Invalid\n",
      "335 Invalid\n",
      "72 Invalid\n",
      "287 Invalid\n",
      "205 Invalid\n",
      "408 Invalid\n",
      "330 May be valid\n",
      "165 May be valid\n",
      "49 Invalid\n",
      "390 Invalid\n",
      "212 May be valid\n",
      "50 Invalid\n",
      "145 Invalid\n",
      "194 May be valid\n",
      "334 Invalid\n",
      "330 May be valid\n",
      "483 Invalid\n",
      "52 May be valid\n",
      "143 Invalid\n",
      "427 Invalid\n",
      "370 Invalid\n",
      "267 Invalid\n",
      "330 May be valid\n",
      "381 Invalid\n",
      "165 May be valid\n",
      "447 Invalid\n",
      "159 Invalid\n",
      "348 Invalid\n",
      "177 Invalid\n",
      "94 May be valid\n",
      "23 May be valid\n",
      "273 Invalid\n",
      "484 Invalid\n",
      "70 Invalid\n",
      "92 Invalid\n",
      "229 Invalid\n",
      "335 Invalid\n",
      "34 Invalid\n",
      "50 Invalid\n",
      "119 Invalid\n",
      "472 Invalid\n",
      "54 Invalid\n",
      "164 Invalid\n",
      "120 May be valid\n",
      "108 Invalid\n",
      "449 Invalid\n",
      "84 Invalid\n",
      "324 Invalid\n",
      "100 Invalid\n",
      "8 Invalid\n",
      "499 May be valid\n",
      "257 May be valid\n",
      "94 May be valid\n",
      "349 Invalid\n",
      "87 Invalid\n",
      "400 Invalid\n",
      "438 May be valid\n",
      "268 Invalid\n",
      "479 Invalid\n",
      "103 Invalid\n",
      "73 Invalid\n",
      "120 May be valid\n",
      "333 Invalid\n",
      "270 Invalid\n",
      "117 Invalid\n",
      "320 May be valid\n",
      "233 Invalid\n",
      "307 Invalid\n",
      "325 Invalid\n",
      "182 May be valid\n",
      "162 May be valid\n",
      "17 Invalid\n",
      "325 Invalid\n",
      "66 Invalid\n",
      "406 May be valid\n",
      "33 Invalid\n",
      "362 May be valid\n",
      "356 Invalid\n",
      "297 Invalid\n",
      "447 Invalid\n",
      "336 Invalid\n",
      "71 Invalid\n",
      "12 May be valid\n",
      "285 Invalid\n",
      "312 May be valid\n",
      "458 Invalid\n",
      "295 Invalid\n",
      "114 May be valid\n",
      "449 Invalid\n",
      "451 Invalid\n",
      "473 Invalid\n",
      "224 Invalid\n",
      "352 May be valid\n",
      "311 Invalid\n",
      "449 Invalid\n",
      "338 May be valid\n",
      "99 May be valid\n",
      "378 Invalid\n",
      "230 May be valid\n",
      "98 Invalid\n",
      "279 Invalid\n",
      "245 Invalid\n",
      "340 Invalid\n",
      "499 May be valid\n",
      "191 Invalid\n",
      "206 May be valid\n",
      "427 Invalid\n",
      "285 Invalid\n",
      "253 Invalid\n",
      "20 May be valid\n",
      "144 Invalid\n",
      "200 Invalid\n",
      "478 Invalid\n",
      "85 Invalid\n",
      "111 Invalid\n",
      "76 Invalid\n",
      "263 Invalid\n",
      "459 Invalid\n",
      "436 Invalid\n",
      "55 Invalid\n",
      "87 Invalid\n",
      "101 Invalid\n",
      "342 Invalid\n",
      "188 Invalid\n",
      "443 Invalid\n",
      "406 May be valid\n",
      "348 Invalid\n",
      "430 May be valid\n",
      "340 Invalid\n",
      "425 Invalid\n",
      "50 Invalid\n",
      "471 Invalid\n",
      "440 Invalid\n",
      "490 Invalid\n",
      "228 Invalid\n",
      "328 Invalid\n",
      "330 May be valid\n",
      "321 Invalid\n",
      "201 Invalid\n",
      "317 Invalid\n",
      "74 Invalid\n",
      "19 Invalid\n",
      "420 May be valid\n",
      "74 Invalid\n",
      "36 Invalid\n",
      "287 Invalid\n",
      "324 Invalid\n",
      "156 Invalid\n",
      "204 Invalid\n",
      "376 Invalid\n",
      "346 Invalid\n"
     ]
    }
   ],
   "source": [
    "inv=0\n",
    "v=0\n",
    "for i in stream:\n",
    "    hash=i%100\n",
    "    if filter[hash]==1:\n",
    "        print(i,'May be valid')\n",
    "        inv+=1\n",
    "    else:\n",
    "        print(i,\"Invalid\")\n",
    "        v+=1"
   ]
  },
  {
   "cell_type": "code",
   "execution_count": 43,
   "metadata": {},
   "outputs": [
    {
     "data": {
      "text/plain": [
       "(48, 152)"
      ]
     },
     "execution_count": 43,
     "metadata": {},
     "output_type": "execute_result"
    }
   ],
   "source": [
    "inv,v"
   ]
  }
 ],
 "metadata": {
  "kernelspec": {
   "display_name": "Python 3",
   "language": "python",
   "name": "python3"
  },
  "language_info": {
   "codemirror_mode": {
    "name": "ipython",
    "version": 3
   },
   "file_extension": ".py",
   "mimetype": "text/x-python",
   "name": "python",
   "nbconvert_exporter": "python",
   "pygments_lexer": "ipython3",
   "version": "3.8.3"
  }
 },
 "nbformat": 4,
 "nbformat_minor": 4
}
